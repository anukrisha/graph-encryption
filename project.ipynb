{
 "cells": [
  {
   "cell_type": "code",
   "execution_count": 95,
   "metadata": {},
   "outputs": [],
   "source": [
    "import numpy as np\n",
    "import base64"
   ]
  },
  {
   "cell_type": "code",
   "execution_count": 140,
   "metadata": {},
   "outputs": [],
   "source": [
    "SCOPE = 10**4\n",
    "\n",
    "class Encryption:\n",
    "    def __init__(self):\n",
    "        self.graph = np.full((SCOPE, SCOPE), '*', dtype='S1')\n",
    "        self.shape = None\n",
    "    \n",
    "    def generate_data_stream(self, path):\n",
    "        with open(path, \"rb\") as img2str:\n",
    "            data = base64.b64encode(img2str.read())\n",
    "        \n",
    "        return data\n",
    "\n",
    "    def regenerate_data_stream(self, data, filename):\n",
    "        img = base64.b64decode(data)\n",
    "        decrypted = open(f'decrypted/{filename}', \"wb\")\n",
    "        decrypted.write(img)\n",
    "        decrypted.close()\n",
    "        return True\n",
    "    \n",
    "    def encrypt(self, path=None):\n",
    "        np.random.seed(42)\n",
    "        if path == None:\n",
    "            path = input('Enter path to image file: ')\n",
    "        try:\n",
    "            data = self.generate_data_stream(path)\n",
    "        except:\n",
    "            return False\n",
    "        \n",
    "        # a\n",
    "        initial_term = np.random.randint(1, SCOPE)\n",
    "        \n",
    "        # a + (n-1)d\n",
    "        ap_base = np.random.randint(2, SCOPE)\n",
    "        ap_multiple = 1\n",
    "        \n",
    "        # d^r\n",
    "        gp_base = np.random.randint(2, 7)\n",
    "        gp_power = 0\n",
    "        \n",
    "        while len(data) > 0:\n",
    "            ap_term = initial_term + (ap_multiple-1)*ap_base\n",
    "            ap_multiple += 1\n",
    "            gp_term = (gp_base**gp_power)\n",
    "            gp_power += 1\n",
    "            u = ap_term // SCOPE\n",
    "            v = ap_term % SCOPE\n",
    "            if self.graph[u][v] != b'*':\n",
    "                gp_power -= 1\n",
    "                continue\n",
    "            else:\n",
    "                feed_length = f'{gp_term}'\n",
    "                it = iter(feed_length) \n",
    "                for i in range(v, SCOPE-v):\n",
    "                    for j, c in zip(range(u, SCOPE-u), it):\n",
    "                        self.graph[i, j] = c \n",
    "                \n",
    "                feed = data[:gp_term] if len(data) > gp_term else data\n",
    "                \n",
    "                it = iter(feed) \n",
    "                for i in range(u, SCOPE-u):\n",
    "                    for j, c in zip(range(v, SCOPE-v), it):\n",
    "                        self.graph[i, j] = c\n",
    "                \n",
    "                data = data[gp_term:] if len(data) > gp_term else b''\n",
    "        \n",
    "        encrypted = open('encrypted/encrypted.bin', 'wb')\n",
    "        encrypted.write(self.graph)\n",
    "        encrypted.close()\n",
    "        return True\n",
    "    \n",
    "    def decrypt(self, path=None):\n",
    "        if path == None:\n",
    "            path = input('Enter path to encrypted file: ')\n",
    "        \n",
    "        try:\n",
    "            encrypted_file = open(path, \"rb\")\n",
    "            content = encrypted_file.read()\n",
    "        except:\n",
    "            return False\n",
    "        \n",
    "        content_array = np.frombuffer(content, dtype = 'S1')\n",
    "        content_array = content_array.reshape((SCOPE, SCOPE))\n",
    "        \n",
    "        return content_array\n",
    "        "
   ]
  },
  {
   "cell_type": "code",
   "execution_count": 139,
   "metadata": {},
   "outputs": [
    {
     "data": {
      "text/plain": [
       "True"
      ]
     },
     "execution_count": 139,
     "metadata": {},
     "output_type": "execute_result"
    }
   ],
   "source": [
    "e = Encryption()\n",
    "e.encrypt('trial.jpg')"
   ]
  },
  {
   "cell_type": "code",
   "execution_count": null,
   "metadata": {},
   "outputs": [],
   "source": [
    "e.decrypt('encrypted/encrypted.bin')"
   ]
  }
 ],
 "metadata": {
  "kernelspec": {
   "display_name": "Python 3",
   "language": "python",
   "name": "python3"
  },
  "language_info": {
   "codemirror_mode": {
    "name": "ipython",
    "version": 3
   },
   "file_extension": ".py",
   "mimetype": "text/x-python",
   "name": "python",
   "nbconvert_exporter": "python",
   "pygments_lexer": "ipython3",
   "version": "3.10.9"
  },
  "orig_nbformat": 4
 },
 "nbformat": 4,
 "nbformat_minor": 2
}
